{
 "cells": [
  {
   "cell_type": "code",
   "execution_count": 15,
   "metadata": {},
   "outputs": [],
   "source": [
    "import pandas as pd\n",
    "import seaborn as sns\n",
    "import matplotlib.pyplot as plt\n",
    "from sklearn.model_selection import train_test_split\n",
    "from sklearn.preprocessing import StandardScaler, LabelEncoder\n",
    "from sklearn.ensemble import RandomForestClassifier\n",
    "from sklearn.metrics import accuracy_score, confusion_matrix, classification_report\n"
   ]
  },
  {
   "cell_type": "code",
   "execution_count": 7,
   "metadata": {},
   "outputs": [],
   "source": [
    "df = pd.read_csv('Uterine Corpus Endometrial Carcinoma.csv')"
   ]
  },
  {
   "cell_type": "code",
   "execution_count": 8,
   "metadata": {},
   "outputs": [
    {
     "data": {
      "text/html": [
       "<div>\n",
       "<style scoped>\n",
       "    .dataframe tbody tr th:only-of-type {\n",
       "        vertical-align: middle;\n",
       "    }\n",
       "\n",
       "    .dataframe tbody tr th {\n",
       "        vertical-align: top;\n",
       "    }\n",
       "\n",
       "    .dataframe thead th {\n",
       "        text-align: right;\n",
       "    }\n",
       "</style>\n",
       "<table border=\"1\" class=\"dataframe\">\n",
       "  <thead>\n",
       "    <tr style=\"text-align: right;\">\n",
       "      <th></th>\n",
       "      <th>Patient ID</th>\n",
       "      <th>Sample ID</th>\n",
       "      <th>Cancer Type Detailed</th>\n",
       "      <th>Overall Survival Status</th>\n",
       "      <th>Disease Free Status</th>\n",
       "      <th>Disease-specific Survival status</th>\n",
       "      <th>Mutation Count</th>\n",
       "      <th>Fraction Genome Altered</th>\n",
       "      <th>Diagnosis Age</th>\n",
       "      <th>MSI MANTIS Score</th>\n",
       "      <th>MSIsensor Score</th>\n",
       "      <th>Race Category</th>\n",
       "      <th>Subtype</th>\n",
       "      <th>Tumor Type</th>\n",
       "    </tr>\n",
       "  </thead>\n",
       "  <tbody>\n",
       "    <tr>\n",
       "      <th>0</th>\n",
       "      <td>TCGA-2E-A9G8</td>\n",
       "      <td>TCGA-2E-A9G8-01</td>\n",
       "      <td>Uterine Endometrioid Carcinoma</td>\n",
       "      <td>0:LIVING</td>\n",
       "      <td>NaN</td>\n",
       "      <td>0:ALIVE OR DEAD TUMOR FREE</td>\n",
       "      <td>65.0</td>\n",
       "      <td>0.3311</td>\n",
       "      <td>59.0</td>\n",
       "      <td>0.3234</td>\n",
       "      <td>0.85</td>\n",
       "      <td>Black or African American</td>\n",
       "      <td>UCEC_CN_HIGH</td>\n",
       "      <td>Endometrioid Endometrial Adenocarcinoma</td>\n",
       "    </tr>\n",
       "    <tr>\n",
       "      <th>1</th>\n",
       "      <td>TCGA-4E-A92E</td>\n",
       "      <td>TCGA-4E-A92E-01</td>\n",
       "      <td>Uterine Endometrioid Carcinoma</td>\n",
       "      <td>0:LIVING</td>\n",
       "      <td>0:DiseaseFree</td>\n",
       "      <td>0:ALIVE OR DEAD TUMOR FREE</td>\n",
       "      <td>147.0</td>\n",
       "      <td>0.0341</td>\n",
       "      <td>54.0</td>\n",
       "      <td>0.3396</td>\n",
       "      <td>0.01</td>\n",
       "      <td>Black or African American</td>\n",
       "      <td>UCEC_CN_LOW</td>\n",
       "      <td>Endometrioid Endometrial Adenocarcinoma</td>\n",
       "    </tr>\n",
       "    <tr>\n",
       "      <th>2</th>\n",
       "      <td>TCGA-5B-A90C</td>\n",
       "      <td>TCGA-5B-A90C-01</td>\n",
       "      <td>Uterine Endometrioid Carcinoma</td>\n",
       "      <td>0:LIVING</td>\n",
       "      <td>NaN</td>\n",
       "      <td>0:ALIVE OR DEAD TUMOR FREE</td>\n",
       "      <td>45.0</td>\n",
       "      <td>0.6903</td>\n",
       "      <td>69.0</td>\n",
       "      <td>0.3344</td>\n",
       "      <td>0.55</td>\n",
       "      <td>Black or African American</td>\n",
       "      <td>UCEC_CN_HIGH</td>\n",
       "      <td>Endometrioid Endometrial Adenocarcinoma</td>\n",
       "    </tr>\n",
       "    <tr>\n",
       "      <th>3</th>\n",
       "      <td>TCGA-5S-A9Q8</td>\n",
       "      <td>TCGA-5S-A9Q8-01</td>\n",
       "      <td>Uterine Endometrioid Carcinoma</td>\n",
       "      <td>0:LIVING</td>\n",
       "      <td>0:DiseaseFree</td>\n",
       "      <td>0:ALIVE OR DEAD TUMOR FREE</td>\n",
       "      <td>50.0</td>\n",
       "      <td>0.0581</td>\n",
       "      <td>51.0</td>\n",
       "      <td>0.3199</td>\n",
       "      <td>0.09</td>\n",
       "      <td>Black or African American</td>\n",
       "      <td>UCEC_CN_LOW</td>\n",
       "      <td>Endometrioid Endometrial Adenocarcinoma</td>\n",
       "    </tr>\n",
       "    <tr>\n",
       "      <th>4</th>\n",
       "      <td>TCGA-A5-A0G1</td>\n",
       "      <td>TCGA-A5-A0G1-01</td>\n",
       "      <td>Uterine Serous Carcinoma/Uterine Papillary Ser...</td>\n",
       "      <td>1:DECEASED</td>\n",
       "      <td>0:DiseaseFree</td>\n",
       "      <td>0:ALIVE OR DEAD TUMOR FREE</td>\n",
       "      <td>10808.0</td>\n",
       "      <td>0.0001</td>\n",
       "      <td>67.0</td>\n",
       "      <td>0.3108</td>\n",
       "      <td>1.74</td>\n",
       "      <td>White</td>\n",
       "      <td>UCEC_POLE</td>\n",
       "      <td>Serous Endometrial Adenocarcinoma</td>\n",
       "    </tr>\n",
       "  </tbody>\n",
       "</table>\n",
       "</div>"
      ],
      "text/plain": [
       "     Patient ID        Sample ID  \\\n",
       "0  TCGA-2E-A9G8  TCGA-2E-A9G8-01   \n",
       "1  TCGA-4E-A92E  TCGA-4E-A92E-01   \n",
       "2  TCGA-5B-A90C  TCGA-5B-A90C-01   \n",
       "3  TCGA-5S-A9Q8  TCGA-5S-A9Q8-01   \n",
       "4  TCGA-A5-A0G1  TCGA-A5-A0G1-01   \n",
       "\n",
       "                                Cancer Type Detailed Overall Survival Status  \\\n",
       "0                     Uterine Endometrioid Carcinoma                0:LIVING   \n",
       "1                     Uterine Endometrioid Carcinoma                0:LIVING   \n",
       "2                     Uterine Endometrioid Carcinoma                0:LIVING   \n",
       "3                     Uterine Endometrioid Carcinoma                0:LIVING   \n",
       "4  Uterine Serous Carcinoma/Uterine Papillary Ser...              1:DECEASED   \n",
       "\n",
       "  Disease Free Status Disease-specific Survival status  Mutation Count  \\\n",
       "0                 NaN       0:ALIVE OR DEAD TUMOR FREE            65.0   \n",
       "1       0:DiseaseFree       0:ALIVE OR DEAD TUMOR FREE           147.0   \n",
       "2                 NaN       0:ALIVE OR DEAD TUMOR FREE            45.0   \n",
       "3       0:DiseaseFree       0:ALIVE OR DEAD TUMOR FREE            50.0   \n",
       "4       0:DiseaseFree       0:ALIVE OR DEAD TUMOR FREE         10808.0   \n",
       "\n",
       "   Fraction Genome Altered  Diagnosis Age  MSI MANTIS Score  MSIsensor Score  \\\n",
       "0                   0.3311           59.0            0.3234             0.85   \n",
       "1                   0.0341           54.0            0.3396             0.01   \n",
       "2                   0.6903           69.0            0.3344             0.55   \n",
       "3                   0.0581           51.0            0.3199             0.09   \n",
       "4                   0.0001           67.0            0.3108             1.74   \n",
       "\n",
       "               Race Category       Subtype  \\\n",
       "0  Black or African American  UCEC_CN_HIGH   \n",
       "1  Black or African American   UCEC_CN_LOW   \n",
       "2  Black or African American  UCEC_CN_HIGH   \n",
       "3  Black or African American   UCEC_CN_LOW   \n",
       "4                      White     UCEC_POLE   \n",
       "\n",
       "                                Tumor Type  \n",
       "0  Endometrioid Endometrial Adenocarcinoma  \n",
       "1  Endometrioid Endometrial Adenocarcinoma  \n",
       "2  Endometrioid Endometrial Adenocarcinoma  \n",
       "3  Endometrioid Endometrial Adenocarcinoma  \n",
       "4        Serous Endometrial Adenocarcinoma  "
      ]
     },
     "execution_count": 8,
     "metadata": {},
     "output_type": "execute_result"
    }
   ],
   "source": [
    "df.head()"
   ]
  },
  {
   "cell_type": "code",
   "execution_count": 10,
   "metadata": {},
   "outputs": [
    {
     "data": {
      "text/html": [
       "<div>\n",
       "<style scoped>\n",
       "    .dataframe tbody tr th:only-of-type {\n",
       "        vertical-align: middle;\n",
       "    }\n",
       "\n",
       "    .dataframe tbody tr th {\n",
       "        vertical-align: top;\n",
       "    }\n",
       "\n",
       "    .dataframe thead th {\n",
       "        text-align: right;\n",
       "    }\n",
       "</style>\n",
       "<table border=\"1\" class=\"dataframe\">\n",
       "  <thead>\n",
       "    <tr style=\"text-align: right;\">\n",
       "      <th></th>\n",
       "      <th>Mutation Count</th>\n",
       "      <th>Fraction Genome Altered</th>\n",
       "      <th>Diagnosis Age</th>\n",
       "      <th>MSI MANTIS Score</th>\n",
       "      <th>MSIsensor Score</th>\n",
       "    </tr>\n",
       "  </thead>\n",
       "  <tbody>\n",
       "    <tr>\n",
       "      <th>count</th>\n",
       "      <td>515.000000</td>\n",
       "      <td>519.000000</td>\n",
       "      <td>526.00000</td>\n",
       "      <td>526.000000</td>\n",
       "      <td>528.000000</td>\n",
       "    </tr>\n",
       "    <tr>\n",
       "      <th>mean</th>\n",
       "      <td>1046.423301</td>\n",
       "      <td>0.185959</td>\n",
       "      <td>63.76616</td>\n",
       "      <td>0.438948</td>\n",
       "      <td>6.395890</td>\n",
       "    </tr>\n",
       "    <tr>\n",
       "      <th>std</th>\n",
       "      <td>2734.365494</td>\n",
       "      <td>0.226088</td>\n",
       "      <td>11.06003</td>\n",
       "      <td>0.239666</td>\n",
       "      <td>10.175853</td>\n",
       "    </tr>\n",
       "    <tr>\n",
       "      <th>min</th>\n",
       "      <td>7.000000</td>\n",
       "      <td>0.000000</td>\n",
       "      <td>31.00000</td>\n",
       "      <td>0.237000</td>\n",
       "      <td>0.000000</td>\n",
       "    </tr>\n",
       "    <tr>\n",
       "      <th>25%</th>\n",
       "      <td>47.000000</td>\n",
       "      <td>0.003600</td>\n",
       "      <td>57.00000</td>\n",
       "      <td>0.283950</td>\n",
       "      <td>0.110000</td>\n",
       "    </tr>\n",
       "    <tr>\n",
       "      <th>50%</th>\n",
       "      <td>76.000000</td>\n",
       "      <td>0.067800</td>\n",
       "      <td>64.00000</td>\n",
       "      <td>0.311300</td>\n",
       "      <td>0.435000</td>\n",
       "    </tr>\n",
       "    <tr>\n",
       "      <th>75%</th>\n",
       "      <td>563.500000</td>\n",
       "      <td>0.314450</td>\n",
       "      <td>71.00000</td>\n",
       "      <td>0.543225</td>\n",
       "      <td>10.117500</td>\n",
       "    </tr>\n",
       "    <tr>\n",
       "      <th>max</th>\n",
       "      <td>25696.000000</td>\n",
       "      <td>0.948700</td>\n",
       "      <td>90.00000</td>\n",
       "      <td>1.304900</td>\n",
       "      <td>40.430000</td>\n",
       "    </tr>\n",
       "  </tbody>\n",
       "</table>\n",
       "</div>"
      ],
      "text/plain": [
       "       Mutation Count  Fraction Genome Altered  Diagnosis Age  \\\n",
       "count      515.000000               519.000000      526.00000   \n",
       "mean      1046.423301                 0.185959       63.76616   \n",
       "std       2734.365494                 0.226088       11.06003   \n",
       "min          7.000000                 0.000000       31.00000   \n",
       "25%         47.000000                 0.003600       57.00000   \n",
       "50%         76.000000                 0.067800       64.00000   \n",
       "75%        563.500000                 0.314450       71.00000   \n",
       "max      25696.000000                 0.948700       90.00000   \n",
       "\n",
       "       MSI MANTIS Score  MSIsensor Score  \n",
       "count        526.000000       528.000000  \n",
       "mean           0.438948         6.395890  \n",
       "std            0.239666        10.175853  \n",
       "min            0.237000         0.000000  \n",
       "25%            0.283950         0.110000  \n",
       "50%            0.311300         0.435000  \n",
       "75%            0.543225        10.117500  \n",
       "max            1.304900        40.430000  "
      ]
     },
     "execution_count": 10,
     "metadata": {},
     "output_type": "execute_result"
    }
   ],
   "source": [
    "df.describe()"
   ]
  },
  {
   "cell_type": "code",
   "execution_count": 12,
   "metadata": {},
   "outputs": [
    {
     "data": {
      "image/png": "[encoded data removed]",
      "text/plain": [
       "<Figure size 1000x600 with 1 Axes>"
      ]
     },
     "metadata": {},
     "output_type": "display_data"
    }
   ],
   "source": [
    "# Survival status distribution\n",
    "plt.figure(figsize=(10, 6))\n",
    "sns.countplot(x='Overall Survival Status', data=df)\n",
    "plt.title('Overall Survival Status Distribution')\n",
    "plt.xlabel('Survival Status')\n",
    "plt.ylabel('Count')\n",
    "plt.show()"
   ]
  },
  {
   "cell_type": "code",
   "execution_count": 14,
   "metadata": {},
   "outputs": [
    {
     "data": {
      "image/png": "[encoded data removed]",
      "text/plain": [
       "<Figure size 1400x800 with 1 Axes>"
      ]
     },
     "metadata": {},
     "output_type": "display_data"
    }
   ],
   "source": [
    "# Mutation count distribution by race\n",
    "plt.figure(figsize=(14, 8))\n",
    "sns.boxplot(x='Race Category', y='Mutation Count', data=df)\n",
    "plt.title('Mutation Count Distribution by Race')\n",
    "plt.xlabel('Race Category')\n",
    "plt.ylabel('Mutation Count')\n",
    "plt.xticks(rotation=45)\n",
    "plt.show()"
   ]
  },
  {
   "cell_type": "code",
   "execution_count": 18,
   "metadata": {},
   "outputs": [],
   "source": [
    "# Fill missing values for numeric columns with their median\n",
    "data = df\n",
    "numeric_cols = data.select_dtypes(include=['number']).columns\n",
    "data[numeric_cols] = data[numeric_cols].fillna(data[numeric_cols].median())"
   ]
  },
  {
   "cell_type": "code",
   "execution_count": 19,
   "metadata": {},
   "outputs": [
    {
     "name": "stderr",
     "output_type": "stream",
     "text": [
      "C:\\Users\\rp325\\AppData\\Local\\Temp\\ipykernel_5436\\2613035519.py:4: FutureWarning: A value is trying to be set on a copy of a DataFrame or Series through chained assignment using an inplace method.\n",
      "The behavior will change in pandas 3.0. This inplace method will never work because the intermediate object on which we are setting values always behaves as a copy.\n",
      "\n",
      "For example, when doing 'df[col].method(value, inplace=True)', try using 'df.method({col: value}, inplace=True)' or df[col] = df[col].method(value) instead, to perform the operation inplace on the original object.\n",
      "\n",
      "\n",
      "  data[col].fillna(data[col].mode()[0], inplace=True)\n"
     ]
    }
   ],
   "source": [
    "# Fill missing values for categorical columns with the mode\n",
    "categorical_cols = data.select_dtypes(include=['object']).columns\n",
    "for col in categorical_cols:\n",
    "    data[col].fillna(data[col].mode()[0], inplace=True)"
   ]
  },
  {
   "cell_type": "code",
   "execution_count": 20,
   "metadata": {},
   "outputs": [],
   "source": [
    "# Encode categorical variables\n",
    "label_encoders = {}\n",
    "for column in data.select_dtypes(include=['object']).columns:\n",
    "    label_encoders[column] = LabelEncoder()\n",
    "    data[column] = label_encoders[column].fit_transform(data[column])"
   ]
  },
  {
   "cell_type": "code",
   "execution_count": 21,
   "metadata": {},
   "outputs": [],
   "source": [
    "# Define features and target\n",
    "X = data.drop(['Patient ID', 'Sample ID', 'Overall Survival Status'], axis=1)\n",
    "y = data['Overall Survival Status']"
   ]
  },
  {
   "cell_type": "code",
   "execution_count": 22,
   "metadata": {},
   "outputs": [],
   "source": [
    "# Split the data into training and testing sets\n",
    "X_train, X_test, y_train, y_test = train_test_split(X, y, test_size=0.2, random_state=42)"
   ]
  },
  {
   "cell_type": "code",
   "execution_count": 23,
   "metadata": {},
   "outputs": [],
   "source": [
    "# Standardize features\n",
    "scaler = StandardScaler()\n",
    "X_train = scaler.fit_transform(X_train)\n",
    "X_test = scaler.transform(X_test)"
   ]
  },
  {
   "cell_type": "code",
   "execution_count": 24,
   "metadata": {},
   "outputs": [
    {
     "data": {
      "text/html": [
       "<style>#sk-container-id-1 {color: black;background-color: white;}#sk-container-id-1 pre{padding: 0;}#sk-container-id-1 div.sk-toggleable {background-color: white;}#sk-container-id-1 label.sk-toggleable__label {cursor: pointer;display: block;width: 100%;margin-bottom: 0;padding: 0.3em;box-sizing: border-box;text-align: center;}#sk-container-id-1 label.sk-toggleable__label-arrow:before {content: \"▸\";float: left;margin-right: 0.25em;color: #696969;}#sk-container-id-1 label.sk-toggleable__label-arrow:hover:before {color: black;}#sk-container-id-1 div.sk-estimator:hover label.sk-toggleable__label-arrow:before {color: black;}#sk-container-id-1 div.sk-toggleable__content {max-height: 0;max-width: 0;overflow: hidden;text-align: left;background-color: #f0f8ff;}#sk-container-id-1 div.sk-toggleable__content pre {margin: 0.2em;color: black;border-radius: 0.25em;background-color: #f0f8ff;}#sk-container-id-1 input.sk-toggleable__control:checked~div.sk-toggleable__content {max-height: 200px;max-width: 100%;overflow: auto;}#sk-container-id-1 input.sk-toggleable__control:checked~label.sk-toggleable__label-arrow:before {content: \"▾\";}#sk-container-id-1 div.sk-estimator input.sk-toggleable__control:checked~label.sk-toggleable__label {background-color: #d4ebff;}#sk-container-id-1 div.sk-label input.sk-toggleable__control:checked~label.sk-toggleable__label {background-color: #d4ebff;}#sk-container-id-1 input.sk-hidden--visually {border: 0;clip: rect(1px 1px 1px 1px);clip: rect(1px, 1px, 1px, 1px);height: 1px;margin: -1px;overflow: hidden;padding: 0;position: absolute;width: 1px;}#sk-container-id-1 div.sk-estimator {font-family: monospace;background-color: #f0f8ff;border: 1px dotted black;border-radius: 0.25em;box-sizing: border-box;margin-bottom: 0.5em;}#sk-container-id-1 div.sk-estimator:hover {background-color: #d4ebff;}#sk-container-id-1 div.sk-parallel-item::after {content: \"\";width: 100%;border-bottom: 1px solid gray;flex-grow: 1;}#sk-container-id-1 div.sk-label:hover label.sk-toggleable__label {background-color: #d4ebff;}#sk-container-id-1 div.sk-serial::before {content: \"\";position: absolute;border-left: 1px solid gray;box-sizing: border-box;top: 0;bottom: 0;left: 50%;z-index: 0;}#sk-container-id-1 div.sk-serial {display: flex;flex-direction: column;align-items: center;background-color: white;padding-right: 0.2em;padding-left: 0.2em;position: relative;}#sk-container-id-1 div.sk-item {position: relative;z-index: 1;}#sk-container-id-1 div.sk-parallel {display: flex;align-items: stretch;justify-content: center;background-color: white;position: relative;}#sk-container-id-1 div.sk-item::before, #sk-container-id-1 div.sk-parallel-item::before {content: \"\";position: absolute;border-left: 1px solid gray;box-sizing: border-box;top: 0;bottom: 0;left: 50%;z-index: -1;}#sk-container-id-1 div.sk-parallel-item {display: flex;flex-direction: column;z-index: 1;position: relative;background-color: white;}#sk-container-id-1 div.sk-parallel-item:first-child::after {align-self: flex-end;width: 50%;}#sk-container-id-1 div.sk-parallel-item:last-child::after {align-self: flex-start;width: 50%;}#sk-container-id-1 div.sk-parallel-item:only-child::after {width: 0;}#sk-container-id-1 div.sk-dashed-wrapped {border: 1px dashed gray;margin: 0 0.4em 0.5em 0.4em;box-sizing: border-box;padding-bottom: 0.4em;background-color: white;}#sk-container-id-1 div.sk-label label {font-family: monospace;font-weight: bold;display: inline-block;line-height: 1.2em;}#sk-container-id-1 div.sk-label-container {text-align: center;}#sk-container-id-1 div.sk-container {/* jupyter's `normalize.less` sets `[hidden] { display: none; }` but bootstrap.min.css set `[hidden] { display: none !important; }` so we also need the `!important` here to be able to override the default hidden behavior on the sphinx rendered scikit-learn.org. See: https://github.com/scikit-learn/scikit-learn/issues/21755 */display: inline-block !important;position: relative;}#sk-container-id-1 div.sk-text-repr-fallback {display: none;}</style><div id=\"sk-container-id-1\" class=\"sk-top-container\"><div class=\"sk-text-repr-fallback\"><pre>RandomForestClassifier(random_state=42)</pre><b>In a Jupyter environment, please rerun this cell to show the HTML representation or trust the notebook. <br />On GitHub, the HTML representation is unable to render, please try loading this page with nbviewer.org.</b></div><div class=\"sk-container\" hidden><div class=\"sk-item\"><div class=\"sk-estimator sk-toggleable\"><input class=\"sk-toggleable__control sk-hidden--visually\" id=\"sk-estimator-id-1\" type=\"checkbox\" checked><label for=\"sk-estimator-id-1\" class=\"sk-toggleable__label sk-toggleable__label-arrow\">RandomForestClassifier</label><div class=\"sk-toggleable__content\"><pre>RandomForestClassifier(random_state=42)</pre></div></div></div></div></div>"
      ],
      "text/plain": [
       "RandomForestClassifier(random_state=42)"
      ]
     },
     "execution_count": 24,
     "metadata": {},
     "output_type": "execute_result"
    }
   ],
   "source": [
    "# Train a Random Forest model\n",
    "model = RandomForestClassifier(n_estimators=100, random_state=42)\n",
    "model.fit(X_train, y_train)"
   ]
  },
  {
   "cell_type": "code",
   "execution_count": 25,
   "metadata": {},
   "outputs": [],
   "source": [
    "# Make predictions\n",
    "y_pred = model.predict(X_test)"
   ]
  },
  {
   "cell_type": "code",
   "execution_count": 26,
   "metadata": {},
   "outputs": [],
   "source": [
    "# Evaluate the model\n",
    "accuracy = accuracy_score(y_test, y_pred)\n",
    "conf_matrix = confusion_matrix(y_test, y_pred)\n",
    "class_report = classification_report(y_test, y_pred)"
   ]
  },
  {
   "cell_type": "code",
   "execution_count": 44,
   "metadata": {},
   "outputs": [
    {
     "name": "stdout",
     "output_type": "stream",
     "text": [
      "Accuracy: 95.28301886792453\n",
      "Confusion Matrix:\n",
      "[[92  0]\n",
      " [ 5  9]]\n",
      "Classification Report:\n",
      "              precision    recall  f1-score   support\n",
      "\n",
      "           0       0.95      1.00      0.97        92\n",
      "           1       1.00      0.64      0.78        14\n",
      "\n",
      "    accuracy                           0.95       106\n",
      "   macro avg       0.97      0.82      0.88       106\n",
      "weighted avg       0.96      0.95      0.95       106\n",
      "\n"
     ]
    }
   ],
   "source": [
    "print(f'Accuracy: {accuracy*100}')\n",
    "print('Confusion Matrix:')\n",
    "print(conf_matrix)\n",
    "print('Classification Report:')\n",
    "print(class_report)"
   ]
  },
  {
   "cell_type": "code",
   "execution_count": 36,
   "metadata": {},
   "outputs": [
    {
     "name": "stdout",
     "output_type": "stream",
     "text": [
      "New Prediction: 0\n"
     ]
    }
   ],
   "source": [
    "# Prediction for new data (example)\n",
    "new_data = pd.DataFrame({\n",
    "    'Cancer Type Detailed': ['Uterine Endometrioid Carcinoma'],\n",
    "    'Disease Free Status': ['0:DiseaseFree'],\n",
    "    'Disease-specific Survival status': ['0:ALIVE OR DEAD TUMOR FREE'],\n",
    "    'Mutation Count': [50],\n",
    "    'Fraction Genome Altered': [0.0581],\n",
    "    'Diagnosis Age': [51],\n",
    "    'MSI MANTIS Score': [0.3199],\n",
    "    'MSIsensor Score': [0.09],\n",
    "    'Race Category': ['Black or African American'],\n",
    "    'Subtype': ['UCEC_CN_LOW'],\n",
    "    'Tumor Type': ['Endometrioid Endometrial Adenocarcinoma']\n",
    "})\n",
    "# Encode new data\n",
    "for column in new_data.select_dtypes(include=['object']).columns:\n",
    "    new_data[column] = label_encoders[column].transform(new_data[column])\n",
    "\n",
    "# Standardize new data\n",
    "new_data = scaler.transform(new_data)\n",
    "\n",
    "# Predict\n",
    "new_prediction = model.predict(new_data)\n",
    "print(f'New Prediction: {new_prediction[0]}')"
   ]
  }
 ],
 "metadata": {
  "kernelspec": {
   "display_name": "Python 3",
   "language": "python",
   "name": "python3"
  },
  "language_info": {
   "codemirror_mode": {
    "name": "ipython",
    "version": 3
   },
   "file_extension": ".py",
   "mimetype": "text/x-python",
   "name": "python",
   "nbconvert_exporter": "python",
   "pygments_lexer": "ipython3",
   "version": "3.11.2"
  }
 },
 "nbformat": 4,
 "nbformat_minor": 2
}
